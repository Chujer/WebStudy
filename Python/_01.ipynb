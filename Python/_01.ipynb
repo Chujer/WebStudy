{
 "cells": [
  {
   "cell_type": "code",
   "execution_count": null,
   "id": "1c2fdc61",
   "metadata": {},
   "outputs": [
    {
     "name": "stdout",
     "output_type": "stream",
     "text": [
      "3\n",
      "5\n"
     ]
    }
   ],
   "source": [
    "# print\n",
    "print(2+1)\n"
   ]
  },
  {
   "cell_type": "code",
   "execution_count": 16,
   "id": "d9bbb6e4",
   "metadata": {},
   "outputs": [
    {
     "name": "stdout",
     "output_type": "stream",
     "text": [
      "5\n",
      "True\n",
      "True\n",
      "29 이현중 171 60 165 True False male game game\n"
     ]
    }
   ],
   "source": [
    "#변수\n",
    "num1 = 1\n",
    "num2 = 4\n",
    "\n",
    "print(num1+ num2)\n",
    "\n",
    "#Boolean\n",
    "print(3 < 7)\n",
    "print(34 !=100)\n",
    "\n",
    "age = 29\n",
    "name = \"이현중\"\n",
    "height = 171\n",
    "weight = 60\n",
    "foot_size = 165\n",
    "glass = True\n",
    "marriage = False\n",
    "gender = \"male\"\n",
    "hobby = \"game\"\n",
    "special = \"game\"\n",
    "\n",
    "print(age, name, height, weight, foot_size, glass, marriage, gender, hobby, special)"
   ]
  },
  {
   "cell_type": "code",
   "execution_count": 13,
   "id": "ca85df0f",
   "metadata": {},
   "outputs": [
    {
     "name": "stdout",
     "output_type": "stream",
     "text": [
      "지름 :  20\n",
      "둘래 :  62.830000000000005\n",
      "넓이 :  314.15000000000003\n",
      "123\n",
      "<class 'int'>\n",
      "56088\n"
     ]
    }
   ],
   "source": [
    "#small project2\n",
    "\n",
    "#제곱 (pow)\n",
    "radius = 10\n",
    "pi = 3.1415\n",
    "\n",
    "print(\"지름 : \", 2*radius)\n",
    "print(\"둘래 : \", 2*pi*radius)\n",
    "print(\"넓이 : \", pi*radius**2)\n",
    "\n",
    "#변수 입력 name<-input(입력값) (cin)\n",
    "#input 함수는 안에 들어오는 값을 무조건 문자열로 받음\n",
    "name = input(\"?\")\n",
    "print(name)\n",
    "\n",
    "#형변환\n",
    "test = int(name)\n",
    "print(type(test))\n",
    "\n",
    "digit1 = int(input())\n",
    "digit2 = int(input())\n",
    "\n",
    "print(digit1 * digit2)"
   ]
  },
  {
   "cell_type": "code",
   "execution_count": null,
   "id": "19b98ce5",
   "metadata": {},
   "outputs": [
    {
     "name": "stdout",
     "output_type": "stream",
     "text": [
      "2\n",
      "11\n",
      "4\n",
      "asdpyt\n",
      "hoon\n",
      "p\n",
      "n\n",
      "yt\n",
      "     asd    \n",
      "asd\n"
     ]
    }
   ],
   "source": [
    "#문자열\n",
    "\n",
    "#문자열은 한줄이 넘어가면 \"을 세번 사용해야한다\n",
    "some_string = \"\"\"ppppyt\n",
    "hoon\"\"\"\n",
    "\n",
    "print(some_string.count('o'))\n",
    "\n",
    "#문자 갯수 len\n",
    "print(len(some_string))\n",
    "\n",
    "#문자가 몇번째에 나오는지 find\n",
    "print(some_string.find('y'))\n",
    "\n",
    "#내용을 다른내용으로 바꾸기 replace\n",
    "print(some_string.replace(\"ppp\", \"asd\"))\n",
    "\n",
    "#front = [0], back = [-1]\n",
    "print(some_string[0])\n",
    "print(some_string[-1])\n",
    "\n",
    "#해당 인덱스 시작:직전문자까지출력 슬라이싱\n",
    "string1 = \"python\"\n",
    "print(string1[1:3])\n",
    "\n",
    "#앞 뒤의 특정 문자를 제거하는 함수 strip() 비어있다면 스페이스바를 뺌\n",
    "strip_string = \"     asd    \"\n",
    "print(strip_string)\n",
    "print(strip_string.strip())"
   ]
  },
  {
   "cell_type": "code",
   "execution_count": null,
   "id": "95d97550",
   "metadata": {},
   "outputs": [],
   "source": []
  }
 ],
 "metadata": {
  "kernelspec": {
   "display_name": "Python 3",
   "language": "python",
   "name": "python3"
  },
  "language_info": {
   "codemirror_mode": {
    "name": "ipython",
    "version": 3
   },
   "file_extension": ".py",
   "mimetype": "text/x-python",
   "name": "python",
   "nbconvert_exporter": "python",
   "pygments_lexer": "ipython3",
   "version": "3.13.7"
  }
 },
 "nbformat": 4,
 "nbformat_minor": 5
}
